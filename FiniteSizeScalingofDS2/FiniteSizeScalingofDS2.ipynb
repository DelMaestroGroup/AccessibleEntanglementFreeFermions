{
 "cells": [
  {
   "cell_type": "markdown",
   "metadata": {},
   "source": [
    "# The scaling of operational entanglement with the partition size"
   ]
  },
  {
   "cell_type": "code",
   "execution_count": 1,
   "metadata": {
    "collapsed": true
   },
   "outputs": [],
   "source": [
    "import numpy as np\n",
    "import matplotlib.pyplot as plt\n",
    "%matplotlib inline \n",
    "%config InlineBackend.figure_format = 'retina'"
   ]
  },
  {
   "cell_type": "code",
   "execution_count": 2,
   "metadata": {
    "collapsed": false
   },
   "outputs": [],
   "source": [
    "\n",
    "data = np.loadtxt('200k_alpha2.dat')\n",
    "\n",
    "#partition size\n",
    "l = np.concatenate((data[0:6:1,0],data[7:20:3,0],data[22::4,0]),axis=0)\n",
    "#the variance\n",
    "sigma2 = np.concatenate((data[0:6:1,5],data[7:20:3,5],data[22::4,5]),axis=0)\n",
    "#Second Renyi spatial entanglement entropy\n",
    "S2 = np.concatenate((data[0:6:1,3],data[7:20:3,3],data[22::4,3]),axis=0)\n",
    "#Second Renyi spatial entropy of the probability distribution P_n\n",
    "H2 = np.concatenate((data[0:6:1,6],data[7:20:3,6],data[22::4,6]),axis=0)\n",
    "#Second Renyi operational entanglement entropy\n",
    "Sop2 = np.concatenate((data[0:6:1,10],data[7:20:3,10],data[22::4,10]),axis=0)\n",
    "# chord length\n",
    "lc=np.log(200000/np.pi*np.sin(l/200000*np.pi))"
   ]
  },
  {
   "cell_type": "code",
   "execution_count": 3,
   "metadata": {
    "collapsed": false,
    "scrolled": false
   },
   "outputs": [
    {
     "data": {
      "image/png": "[encoded data removed]",
      "text/plain": [
       "<matplotlib.figure.Figure at 0x116202ba8>"
      ]
     },
     "metadata": {
      "image/png": {
       "height": 145,
       "width": 212
      }
     },
     "output_type": "display_data"
    }
   ],
   "source": [
    "plt.style.reload_library()\n",
    "\n",
    "with plt.style.context('aps.mplstyle'):\n",
    "    figpn = plt.figure()\n",
    "    #Principal Plot\n",
    "    axpn= figpn.add_subplot(111)\n",
    "    axpn.set_xlabel(r'$\\ln(\\sigma^2)$')\n",
    "    axpn.plot(np.log(sigma2),S2-Sop2,ms=4.0, mew=0.7, color='#e95c47',marker='s',    mfc='None',linewidth = 1.0,linestyle='None',label=r'$\\Delta S_{2}$')\n",
    "    axpn.plot(np.log(sigma2),H2,ms=4.0, mew=0.7, color='#4173b3',marker='o',    mfc='None',linewidth = 1.0,linestyle='None',label=r'$H_{2}$')\n",
    "\n",
    "\n",
    "    axpn.legend(loc=(0.7,0.4),frameon=False, numpoints=1)\n",
    "    axpn.set_xlim(-1.43,0.37)\n",
    "    axpn.set_ylim(0.6,1.45)\n",
    "    axpn.text(-.6,.8,r'$N=10^5$')\n",
    "\n",
    "\n",
    "\n",
    "    left, bottom, width, height = [0.27, 0.59, 0.25, 0.25]\n",
    "    #Inset Plot\n",
    "    axpn1 = figpn.add_axes([left,bottom,width,height])\n",
    "    \n",
    "    axpn1.plot(lc[::5], sigma2[::5], mec='#000000',ms=3.0, mew=0.7, marker='o',mfc='#000000',linewidth = 0.7,linestyle='-',color='#000000')\n",
    "    axpn1.set_xlabel(r'$\\ln(\\ell_c)$', labelpad=0.1)\n",
    "    axpn1.set_ylabel(r'$\\sigma^2$', labelpad=0.1)\n",
    "    axpn1.set_yticks([0.25,0.75,1.25])\n",
    "    axpn1.set_xticks([1,5,10])\n",
    "    axpn1.set_xlim(-2,12.5)\n",
    "    axpn1.set_ylim(.1,1.51)\n",
    "    axpn1.tick_params(labelsize=7)\n",
    "\n",
    "\n",
    "\n",
    "    plt.savefig('FiniteSizeScalingofDS2.pdf')\n",
    "    plt.savefig('FiniteSizeScalingofDS2.png')\n",
    "    plt.show()"
   ]
  }
 ],
 "metadata": {
  "kernelspec": {
   "display_name": "Python 3",
   "language": "python",
   "name": "python3"
  },
  "language_info": {
   "codemirror_mode": {
    "name": "ipython",
    "version": 3
   },
   "file_extension": ".py",
   "mimetype": "text/x-python",
   "name": "python",
   "nbconvert_exporter": "python",
   "pygments_lexer": "ipython3",
   "version": "3.6.0"
  }
 },
 "nbformat": 4,
 "nbformat_minor": 2
}
